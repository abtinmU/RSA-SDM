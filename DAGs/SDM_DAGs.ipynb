{
  "nbformat": 4,
  "nbformat_minor": 0,
  "metadata": {
    "colab": {
      "provenance": []
    },
    "kernelspec": {
      "name": "python3",
      "display_name": "Python 3"
    },
    "language_info": {
      "name": "python"
    }
  },
  "cells": [
    {
      "cell_type": "code",
      "source": [
        "from PIL import Image\n",
        "import matplotlib.pyplot as plt\n",
        "from graphviz import Digraph\n",
        "import pandas as pd\n",
        "from matplotlib.patches import FancyBboxPatch"
      ],
      "metadata": {
        "id": "EFzE1OlwpQV9"
      },
      "execution_count": 1,
      "outputs": []
    },
    {
      "cell_type": "code",
      "source": [
        "# Define the Graph's general information\n",
        "dot = Digraph(comment='DAG')\n",
        "dot.attr('node', style='rounded,filled', fillcolor='white')\n",
        "dot.attr('edge')\n",
        "\n",
        "dot.node(\"FMU\", \"Family's Medical\\n Understanding \\n(state2)\\nFMU\", style='rounded,filled', fillcolor='yellow')\n",
        "dot.node(\"PMU\", \"Patient's Medical\\n Understanding \\n(state1)\\nPMU\", style='rounded,filled', fillcolor='yellow')\n",
        "dot.node(\"DIP\", \"Doctor's inference\\n on patient\\n\\n p(PMU|UD)\")\n",
        "dot.node(\"DIF\", \"Doctor's inference\\n on family\\n\\n p(FMU|UD)\")\n",
        "dot.node('UD', 'Utterance\\n Detail\\n\\n p(UD|FMU, PMU)')\n",
        "dot.node(\"SR\", \"Surgery's\\n Result \\n(world's state)\\nSR\", style='rounded,filled', fillcolor='yellow')\n",
        "dot.node('DU1', \"Doctor's\\n Utterance 1\\n\\n p(DU1|UD, SR)\")\n",
        "\n",
        "# Add edges to the graph\n",
        "edges = [\n",
        "    (\"FMU\", 'UD'),\n",
        "    (\"PMU\", 'UD'),\n",
        "    (\"DIP\", 'UD'),\n",
        "    (\"DIF\", 'UD'),\n",
        "    ('UD', 'DU1'),\n",
        "    (\"SR\", 'DU1'),\n",
        "]\n",
        "dot.edges(edges)\n",
        "\n",
        "# Define the subgraphs/clusters\n",
        "with dot.subgraph(name='cluster_RSA1') as c:\n",
        "    c.attr(label='Doctor\\'s \\nUtterance 1\\nModel', color='blue4', style='rounded,filled', fillcolor='lightblue')\n",
        "    c.node(\"PMU\")\n",
        "    c.node(\"DIF\")\n",
        "    c.node(\"FMU\")\n",
        "    c.node(\"DIP\")\n",
        "    c.node('UD')\n",
        "    c.node(\"SR\")\n",
        "    c.node(\"DU1\")\n",
        "\n",
        "dot.render('model1', format='png')\n",
        "\n",
        "# Show the generated DAG\n",
        "\n",
        "# img_path = '/content/model1.png'\n",
        "# img = Image.open(img_path)\n",
        "\n",
        "# plt.figure(figsize=(8, 6))\n",
        "# plt.imshow(img)\n",
        "# plt.axis('off')\n",
        "# plt.show()"
      ],
      "metadata": {
        "colab": {
          "base_uri": "https://localhost:8080/",
          "height": 35
        },
        "id": "YdhWNVFcSxq1",
        "outputId": "28bcd560-1ab3-45d3-8845-5d90b3629317"
      },
      "execution_count": 2,
      "outputs": [
        {
          "output_type": "execute_result",
          "data": {
            "text/plain": [
              "'model1.png'"
            ],
            "application/vnd.google.colaboratory.intrinsic+json": {
              "type": "string"
            }
          },
          "metadata": {},
          "execution_count": 2
        }
      ]
    },
    {
      "cell_type": "code",
      "source": [
        "# Define the Graph's general information\n",
        "dot = Digraph(comment='DAG')\n",
        "dot.attr('node', style='rounded,filled', fillcolor='white')\n",
        "dot.attr('edge')\n",
        "\n",
        "dot.node(\"PMU\", \"Patient's Medical\\n Understanding \\n(state1)\\nPMU\", style='rounded,filled', fillcolor='yellow')\n",
        "dot.node(\"PIDU\", \"Patient's inference\\n on Doctor's\\n Utterance\\n\\n p(SR|DU1)\")\n",
        "dot.node('DU1', \"Doctor's Utterance 1 \\n (taken from \\nthe previous model)\\nDU1\", style='rounded,filled', fillcolor='yellow')\n",
        "dot.node(\"SR\", \"Surgery's\\n Result \\n(world's state)\\nSR\", style='rounded,filled', fillcolor='yellow')\n",
        "dot.node('PE', \"Petient's Emotion\\n\\n p(PE|DU1, SR, PMU)\")\n",
        "\n",
        "# Add edges to the graph\n",
        "edges = [\n",
        "    ('DU1', 'PIDU'),\n",
        "    (\"SR\", 'PE'),\n",
        "    (\"PMU\", 'PE'),\n",
        "    (\"PIDU\", 'PE'),\n",
        "]\n",
        "dot.edges(edges)\n",
        "\n",
        "# Define the subgraphs/clusters\n",
        "with dot.subgraph(name='cluster_RSA1') as c:\n",
        "    c.attr(label='Patient\\'s Emotional\\n Inference Model', color='blue4', style='rounded,filled', fillcolor='lightblue')\n",
        "    c.node(\"PMU\")\n",
        "    c.node(\"PIDU\")\n",
        "    c.node(\"SR\")\n",
        "    c.node(\"PE\")\n",
        "    c.node(\"DU1\")\n",
        "\n",
        "dot.render('model2', format='png')\n",
        "\n",
        "# Show the generated DAG\n",
        "\n",
        "# img_path = '/content/model2.png'\n",
        "# img = Image.open(img_path)\n",
        "\n",
        "# plt.figure(figsize=(8, 6))\n",
        "# plt.imshow(img)\n",
        "# plt.axis('off')\n",
        "# plt.show()"
      ],
      "metadata": {
        "colab": {
          "base_uri": "https://localhost:8080/",
          "height": 35
        },
        "id": "MX_jIN3oNvb5",
        "outputId": "cacea8f6-95a5-4cd8-b1ff-9f7a8d550600"
      },
      "execution_count": 3,
      "outputs": [
        {
          "output_type": "execute_result",
          "data": {
            "text/plain": [
              "'model2.png'"
            ],
            "application/vnd.google.colaboratory.intrinsic+json": {
              "type": "string"
            }
          },
          "metadata": {},
          "execution_count": 3
        }
      ]
    },
    {
      "cell_type": "code",
      "source": [
        "# Define the Graph's general information\n",
        "dot = Digraph(comment='DAG')\n",
        "dot.attr('node', style='rounded,filled', fillcolor='white')\n",
        "dot.attr('edge')\n",
        "\n",
        "dot.node('TLTPEP', \"Treatment's \\nSide Effect\\ncost(T)\")\n",
        "dot.node('SR', \"Surgery's \\nResult\\nSR\", style='rounded,filled', fillcolor='yellow')\n",
        "dot.node('PE', \"Patient's Emotion \\n (taken from \\nthe previous model)\\nPE\", style='rounded,filled', fillcolor='yellow')\n",
        "dot.node('DU2', \"Doctor's\\n Suggestion\\n\\np(DU2|SR)\")\n",
        "dot.node('FU', \"Family's \\nSuggestion\\n\\np(FU|DU2, SR)\")\n",
        "dot.node('PD', \"Patient's \\nDecision\\n\\np(PD|FU, DU2, SR)\")\n",
        "dot.node('FIDU', \"Family's inference\\n\\n p(SR|DU2)\")\n",
        "dot.node('PI', \"Patient's \\nInference\\n\\np(SR|FU, DU2, PE)\")\n",
        "\n",
        "# Add edges to the graph\n",
        "edges = [\n",
        "    ('TLTPEP', 'PD'),\n",
        "    ('TLTPEP', 'FU'),\n",
        "    ('PE', 'PD'),\n",
        "    ('SR', 'DU2'),\n",
        "    ('SR', 'FU'),\n",
        "    ('SR', 'PD'),\n",
        "    ('DU2', 'FU'),\n",
        "    ('DU2', 'PD'),\n",
        "    ('FU', 'PD'),\n",
        "    ('PI', 'PD'),\n",
        "    ('FU', 'PI'),\n",
        "    ('DU2', 'PI'),\n",
        "    ('FIDU', 'FU'),\n",
        "    ('DU2', 'FIDU'),\n",
        "]\n",
        "dot.edges(edges)\n",
        "\n",
        "# Define the subgraphs/clusters\n",
        "with dot.subgraph(name='cluster_RSA2') as c:\n",
        "    c.attr(label='Patient\\'s \\nDecision\\nModel', color='blue4', style='rounded,filled', fillcolor='lightblue')\n",
        "    c.node('TLTPEP')\n",
        "    c.node('PI')\n",
        "    c.node('PE')\n",
        "    c.node('FIDU')\n",
        "    c.node('SR')\n",
        "    c.node('DU2')\n",
        "    c.node('FU')\n",
        "    c.node('PD')\n",
        "\n",
        "dot.render('model3', format='png')\n",
        "\n",
        "# Show the generated DAG\n",
        "\n",
        "# img_path = '/content/model3.png'\n",
        "# img = Image.open(img_path)\n",
        "\n",
        "# plt.figure(figsize=(8, 6))\n",
        "# plt.imshow(img)\n",
        "# plt.axis('off')\n",
        "# plt.show()"
      ],
      "metadata": {
        "colab": {
          "base_uri": "https://localhost:8080/",
          "height": 35
        },
        "id": "14vRqxhTTvSy",
        "outputId": "4fe41529-64e6-4441-9fe7-0ec89e3eddea"
      },
      "execution_count": 4,
      "outputs": [
        {
          "output_type": "execute_result",
          "data": {
            "text/plain": [
              "'model3.png'"
            ],
            "application/vnd.google.colaboratory.intrinsic+json": {
              "type": "string"
            }
          },
          "metadata": {},
          "execution_count": 4
        }
      ]
    }
  ]
}